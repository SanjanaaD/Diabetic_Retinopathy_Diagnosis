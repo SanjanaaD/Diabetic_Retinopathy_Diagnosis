{
 "cells": [
  {
   "cell_type": "markdown",
   "metadata": {},
   "source": [
    "## Code for Paper Diabetic Retinopathy Diagnosis"
   ]
  },
  {
   "cell_type": "markdown",
   "metadata": {},
   "source": [
    "Importing the libraries"
   ]
  },
  {
   "cell_type": "code",
   "execution_count": null,
   "metadata": {},
   "outputs": [],
   "source": [
    "import tensorflow as tf\n",
    "import os\n",
    "import numpy as np\n",
    "from sklearn.metrics import classification_report, confusion_matrix, precision_score, recall_score, f1_score, accuracy_score"
   ]
  },
  {
   "cell_type": "markdown",
   "metadata": {},
   "source": [
    "### Building the Model"
   ]
  },
  {
   "cell_type": "code",
   "execution_count": null,
   "metadata": {},
   "outputs": [],
   "source": [
    "#Change Model name for different models\n",
    "# ResNet101V2 EfficientNetB3 DenseNet169\n",
    "\n",
    "baseModel = tf.keras.applications.Xception(weights=\"imagenet\", include_top=False,input_tensor=tf.keras.layers.Input(shape=(299, 299, 3)))\n",
    "\n",
    "headModel = baseModel.output\n",
    "headModel = tf.keras.layers.GlobalAveragePooling2D()(headModel)\n",
    "headModel = tf.keras.layers.Dense(256, activation=\"relu\")(headModel)\n",
    "headModel = tf.keras.layers.Dropout(0.4)(headModel)\n"
   ]
  },
  {
   "cell_type": "code",
   "execution_count": null,
   "metadata": {},
   "outputs": [],
   "source": [
    "#Choose between 2 and 8 for binary and 8-ary classification models\n",
    "headModel = tf.keras.layers.Dense(2, activation=\"softmax\")(headModel)\n",
    "\n",
    "model = tf.keras.Model(inputs=baseModel.input, outputs=headModel)\n",
    "\n",
    "#Choose between binary_crossentropy and categorical_crossentropy\n",
    "\n",
    "model.compile(loss=\"categorical_crossentropy\", optimizer=\"nadam\",metrics=[\"accuracy\"])"
   ]
  },
  {
   "cell_type": "markdown",
   "metadata": {},
   "source": [
    "### Dataset Selection and Augmentation"
   ]
  },
  {
   "cell_type": "code",
   "execution_count": null,
   "metadata": {},
   "outputs": [],
   "source": [
    "#Dataset Augmentation\n",
    "\n",
    "trainAug = tf.keras.preprocessing.image.ImageDataGenerator(horizontal_flip=True,shear_range=10.0,zoom_range=[0.90,1.10],channel_shift_range=10)\n",
    "valAug = tf.keras.preprocessing.image.ImageDataGenerator(horizontal_flip=True,shear_range=10.0,zoom_range=[0.90,1.10],channel_shift_range=10)\n",
    "testAug = tf.keras.preprocessing.image.ImageDataGenerator(horizontal_flip=False)"
   ]
  },
  {
   "cell_type": "code",
   "execution_count": null,
   "metadata": {},
   "outputs": [],
   "source": [
    "#Choose Dataset for training\n",
    "\n",
    "class_select = \"binary_data\" # \"5ary_data\"\n",
    "train_select = \"kaggle\"\n",
    "test_select = \"messidor\"  #\"idrid\" \"kaggle/test\"\n",
    "\n",
    "trainGen = trainAug.flow_from_directory(\n",
    "\t\"data/\"+class_select+\"/\"+train_select+\"/train\",\n",
    "\tclass_mode=\"categorical\",\n",
    "\ttarget_size=(299, 299),\n",
    "\tcolor_mode=\"rgb\",\n",
    "\tshuffle=True,\n",
    "\tbatch_size=16)\n",
    "\n",
    "\n",
    "# initialize the validation generator\n",
    "valGen = valAug.flow_from_directory(\n",
    "\t\"data/\"+class_select+\"/\"+train_select+\"/val\",\n",
    "\tclass_mode=\"categorical\",\n",
    "\ttarget_size=(299, 299),\n",
    "\tcolor_mode=\"rgb\",\n",
    "\tshuffle=False,\n",
    "\tbatch_size=16)\n",
    "\n",
    "\n",
    "# initialize the testing generator\n",
    "testGen = testAug.flow_from_directory(\n",
    "\t\"data/\"+class_select+\"/\"+test_select+\"/\",\n",
    "\tclass_mode=\"categorical\",\n",
    "\ttarget_size=(299, 299),\n",
    "\tcolor_mode=\"rgb\",\n",
    "\tshuffle=False,\n",
    "\tbatch_size=16)"
   ]
  },
  {
   "cell_type": "markdown",
   "metadata": {},
   "source": [
    "### Model checkpoint and callbacks"
   ]
  },
  {
   "cell_type": "code",
   "execution_count": null,
   "metadata": {},
   "outputs": [],
   "source": [
    "mod = \"xception_models/\" # \"efficientnet_models/\"  \"insres_models/\"\n",
    "mod1 = \"xception\" # \"B3\"  \"insres\"\n",
    "classo= \"5ary\" # \"binary\"\n",
    "\n",
    "checkpoint_filepath = \"models/\"+mod+mod1+\"_\"+classo"
   ]
  },
  {
   "cell_type": "code",
   "execution_count": null,
   "metadata": {},
   "outputs": [],
   "source": [
    "model_checkpoint_callback = tf.keras.callbacks.ModelCheckpoint(\n",
    "    filepath=checkpoint_filepath,\n",
    "    save_weights_only=False,\n",
    "    monitor='val_accuracy',\n",
    "    mode='max',\n",
    "    verbose=1,\n",
    "    save_best_only=True)"
   ]
  },
  {
   "cell_type": "markdown",
   "metadata": {},
   "source": [
    "### Model training "
   ]
  },
  {
   "cell_type": "code",
   "execution_count": null,
   "metadata": {},
   "outputs": [],
   "source": [
    "#Change the steps according to the train/val generator values\n",
    "\n",
    "history = model.fit_generator(\n",
    "\ttrainGen,\n",
    "\tsteps_per_epoch= 1453//16 ,\n",
    "\tvalidation_data=valGen,\n",
    "\tvalidation_steps= 177//16,\n",
    "\tepochs=50,\n",
    "    callbacks=[model_checkpoint_callback])"
   ]
  },
  {
   "cell_type": "markdown",
   "metadata": {},
   "source": [
    "### Model performance testing"
   ]
  },
  {
   "cell_type": "code",
   "execution_count": null,
   "metadata": {},
   "outputs": [],
   "source": [
    "modtest = tf.keras.models.load_model(checkpoint_filepath)"
   ]
  },
  {
   "cell_type": "code",
   "execution_count": null,
   "metadata": {},
   "outputs": [],
   "source": [
    "print(\"[INFO] evaluating network...\")\n",
    "testGen.reset()\n",
    "predIdxs = modtest.predict_generator(testGen)\n",
    "predIdxs = np.argmax(predIdxs, axis=1)\n",
    "\n",
    "print(classification_report(testGen.classes, predIdxs, target_names=testGen.class_indices.keys()))"
   ]
  }
 ],
 "metadata": {
  "kernelspec": {
   "display_name": "Python 3",
   "language": "python",
   "name": "python3"
  },
  "language_info": {
   "codemirror_mode": {
    "name": "ipython",
    "version": 3
   },
   "file_extension": ".py",
   "mimetype": "text/x-python",
   "name": "python",
   "nbconvert_exporter": "python",
   "pygments_lexer": "ipython3",
   "version": "3.6.7"
  }
 },
 "nbformat": 4,
 "nbformat_minor": 4
}
